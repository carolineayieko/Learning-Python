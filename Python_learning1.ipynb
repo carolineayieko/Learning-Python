{
 "cells": [
  {
   "cell_type": "markdown",
   "id": "fa0dd57d",
   "metadata": {},
   "source": [
    "# operators\n",
    "Arithmetic Operators\n",
    "\n",
    "comparison(relational)operators\n",
    "\n",
    "Assigment operators\n",
    "\n",
    "Logical operators\n",
    "\n",
    "Bitwise operators\n",
    "\n",
    "Membership Operators\n",
    "\n",
    "Identity Operators"
   ]
  },
  {
   "cell_type": "markdown",
   "id": "096c29ae",
   "metadata": {},
   "source": [
    "# Ultimate Markdown guide for jupyter notebook\n",
    "\n",
    "https://medium.com/analytics-vidhya/the-ultimate-markdown-guide-for-jupyter-notebook-d5e5abf728fd"
   ]
  },
  {
   "cell_type": "code",
   "execution_count": 1,
   "id": "ae2d8a5c",
   "metadata": {},
   "outputs": [],
   "source": [
    "import pandas as pd\n",
    "import numpy as np"
   ]
  },
  {
   "cell_type": "markdown",
   "id": "6121f92f",
   "metadata": {},
   "source": [
    "#### arithmetic operators\n",
    "used to perform basic arithmetic operations"
   ]
  },
  {
   "cell_type": "code",
   "execution_count": 2,
   "id": "05a1aa8d",
   "metadata": {},
   "outputs": [
    {
     "data": {
      "text/plain": [
       "0"
      ]
     },
     "execution_count": 2,
     "metadata": {},
     "output_type": "execute_result"
    }
   ],
   "source": [
    "#arithmetic operators\n",
    "x=2\n",
    "y=3\n",
    "x+y #addition\n",
    "y-x #substraction\n",
    "x*y #multiplication\n",
    "x**y #exponentiation-exponent\n",
    "x/y #division-results into a float\n",
    "x%y #modulus-remainder of division\n",
    "x//y #floor division-results into a hwole number\n"
   ]
  },
  {
   "cell_type": "markdown",
   "id": "63c34d36",
   "metadata": {},
   "source": [
    "### comparison operators\n",
    "Gives boolean results(true or false)\n",
    "\n",
    "Examples \n",
    "\n",
    "(>)greater than\n",
    "\n",
    "< less than\n",
    "\n",
    "== equal to\n",
    "\n",
    "!= not equal to\n",
    "\n",
    "(>=) greater than or equal to\n",
    "\n",
    "<= less than or equal to"
   ]
  },
  {
   "cell_type": "markdown",
   "id": "279ba379",
   "metadata": {},
   "source": [
    "### logical operators\n",
    "\n",
    "used to combine conditional statements. \n",
    "\n",
    "gives boolean results( true or false)\n",
    "\n",
    "##### uses \n",
    "\n",
    "'and'-returns true if both statements are true \n",
    "\n",
    " 'Or'- retruns true if ne of the staments is true\n",
    " \n",
    " 'Not'-reverse the result, returns false if the result is true\n",
    " "
   ]
  },
  {
   "cell_type": "code",
   "execution_count": 3,
   "id": "45b4e68b",
   "metadata": {},
   "outputs": [
    {
     "data": {
      "text/plain": [
       "False"
      ]
     },
     "execution_count": 3,
     "metadata": {},
     "output_type": "execute_result"
    }
   ],
   "source": [
    "x=6\n",
    "x<5 and x<10"
   ]
  },
  {
   "cell_type": "code",
   "execution_count": 4,
   "id": "e6232d9b",
   "metadata": {},
   "outputs": [
    {
     "data": {
      "text/plain": [
       "True"
      ]
     },
     "execution_count": 4,
     "metadata": {},
     "output_type": "execute_result"
    }
   ],
   "source": [
    "x<10 or x<4"
   ]
  },
  {
   "cell_type": "code",
   "execution_count": 5,
   "id": "cbcc03be",
   "metadata": {},
   "outputs": [
    {
     "data": {
      "text/plain": [
       "True"
      ]
     },
     "execution_count": 5,
     "metadata": {},
     "output_type": "execute_result"
    }
   ],
   "source": [
    "not(x<5 and x<10)"
   ]
  },
  {
   "cell_type": "markdown",
   "id": "955363f5",
   "metadata": {},
   "source": [
    "### Variables\n",
    "a Variable is a storage container. it has a name and is assigned a value using the equal sign(=)\n",
    "\n",
    "it a good way to store information for future retrieval"
   ]
  },
  {
   "cell_type": "markdown",
   "id": "d102dc44",
   "metadata": {},
   "source": [
    "## indexing and selecting data with pandas\n",
    "[use of indexers to index and select data](https://www.geeksforgeeks.org/indexing-and-selecting-data-with-pandas/#:~:text=Indexing%20in%20Pandas%20%3A,be%20known%20as%20Subset%20Selection.)\n",
    "\n",
    "- df.loc[]\n",
    "- df.iloc[]\n",
    "- df.ix[]"
   ]
  },
  {
   "cell_type": "markdown",
   "id": "e9cf5c46",
   "metadata": {},
   "source": [
    "# python programming foundations at udacity"
   ]
  },
  {
   "cell_type": "code",
   "execution_count": 6,
   "id": "f7def314",
   "metadata": {},
   "outputs": [
    {
     "name": "stdout",
     "output_type": "stream",
     "text": [
      "I think you're an encyclopedia salesman\n"
     ]
    }
   ],
   "source": [
    "salesman = 'I think you\\'re an encyclopedia salesman'\n",
    "print(salesman)"
   ]
  },
  {
   "cell_type": "code",
   "execution_count": 7,
   "id": "81c8369c",
   "metadata": {},
   "outputs": [
    {
     "name": "stdout",
     "output_type": "stream",
     "text": [
      "5\n"
     ]
    }
   ],
   "source": [
    "first_word = 'hello'\n",
    "print(len(first_word))"
   ]
  },
  {
   "cell_type": "code",
   "execution_count": 8,
   "id": "6a14d082",
   "metadata": {},
   "outputs": [
    {
     "data": {
      "text/plain": [
       "'h'"
      ]
     },
     "execution_count": 8,
     "metadata": {},
     "output_type": "execute_result"
    }
   ],
   "source": [
    "first_word[0]"
   ]
  },
  {
   "cell_type": "code",
   "execution_count": 9,
   "id": "2befad8b",
   "metadata": {},
   "outputs": [
    {
     "data": {
      "text/plain": [
       "'o'"
      ]
     },
     "execution_count": 9,
     "metadata": {},
     "output_type": "execute_result"
    }
   ],
   "source": [
    "first_word[4]"
   ]
  },
  {
   "cell_type": "code",
   "execution_count": 10,
   "id": "d9d46f56",
   "metadata": {},
   "outputs": [
    {
     "name": "stdout",
     "output_type": "stream",
     "text": [
      "3415\n"
     ]
    }
   ],
   "source": [
    "coconut_count = \"34\"\n",
    "mango_count = \"15\"\n",
    "tropical_fruit_count = coconut_count + mango_count\n",
    "print(tropical_fruit_count)"
   ]
  },
  {
   "cell_type": "code",
   "execution_count": 11,
   "id": "f6cd35c7",
   "metadata": {},
   "outputs": [
    {
     "name": "stdout",
     "output_type": "stream",
     "text": [
      "Kinariaccessed the sitehttp://petshop.com/pets/mammals/catsat04:50.\n"
     ]
    }
   ],
   "source": [
    "username = \"Kinari\"\n",
    "timestamp = \"04:50\"\n",
    "url = \"http://petshop.com/pets/mammals/cats\"\n",
    "message =(username +\"accessed the site\" + url + \"at\" + timestamp + \".\")\n",
    "print(message)"
   ]
  },
  {
   "cell_type": "markdown",
   "id": "9f8edfb4",
   "metadata": {},
   "source": [
    "### len()\n",
    "len only works on a \"sequence (such as a string, bytes, tuple, list, or range) or a collection (such as a dictionary, set, or frozen set),\" as per the"
   ]
  },
  {
   "cell_type": "code",
   "execution_count": 12,
   "id": "77c22a0e",
   "metadata": {},
   "outputs": [
    {
     "ename": "SyntaxError",
     "evalue": "invalid syntax (327528675.py, line 1)",
     "output_type": "error",
     "traceback": [
      "\u001b[1;36m  Input \u001b[1;32mIn [12]\u001b[1;36m\u001b[0m\n\u001b[1;33m    my_string.\u001b[0m\n\u001b[1;37m              ^\u001b[0m\n\u001b[1;31mSyntaxError\u001b[0m\u001b[1;31m:\u001b[0m invalid syntax\n"
     ]
    }
   ],
   "source": [
    "my_string."
   ]
  },
  {
   "cell_type": "markdown",
   "id": "8daffec7",
   "metadata": {},
   "source": [
    "# string method: split()"
   ]
  },
  {
   "cell_type": "code",
   "execution_count": null,
   "id": "dd17d2b4",
   "metadata": {},
   "outputs": [],
   "source": [
    "#split string method\n",
    "#separator is space and maxiplit is argument is set to 3\n",
    "new_str = \"The cow jumped over the moon.\"\n",
    "new_str.split(' ', 3)"
   ]
  },
  {
   "cell_type": "code",
   "execution_count": null,
   "id": "f48cb2e7",
   "metadata": {},
   "outputs": [],
   "source": [
    "#using default split\n",
    "new_str.split()"
   ]
  },
  {
   "cell_type": "code",
   "execution_count": null,
   "id": "e2768ba4",
   "metadata": {},
   "outputs": [],
   "source": [
    "#using '.' or period as a separator\n",
    "new_str.split('.')"
   ]
  },
  {
   "cell_type": "markdown",
   "id": "19e11626",
   "metadata": {},
   "source": [
    "# string method coding practice\n",
    "we have string methods such as .forma(), .find(), .count(), len() and many more\n"
   ]
  },
  {
   "cell_type": "code",
   "execution_count": null,
   "id": "3577808e",
   "metadata": {},
   "outputs": [],
   "source": [
    "verse = \"If you can keep your head when all about you\\n  Are losing theirs and blaming it on you,\\nIf you can trust yourself when all men doubt you,\\n  But make allowance for their doubting too;\\nIf you can wait and not be tired by waiting,\\n  Or being lied about, don’t deal in lies,\\nOr being hated, don’t give way to hating,\\n  And yet don’t look too good, nor talk too wise:\""
   ]
  },
  {
   "cell_type": "markdown",
   "id": "f5e86712",
   "metadata": {},
   "source": [
    " Use the code editor below to answer the following questions about verse and use Test Run to check your output in the quiz at the bottom of this page.\n",
    "\n",
    "1. What is the length of the string variable verse?\n",
    "2. What is the index of the first occurrence of the word 'and' in verse?\n",
    "3. What is the index of the last occurrence of the word 'you' in verse?\n",
    "4. What is the count of occurrences of the word 'you' in the verse?\n",
    "You will need to refer to Python's string methods documentation https://docs.python.org/2/library/string.html."
   ]
  },
  {
   "cell_type": "markdown",
   "id": "fec58fd9",
   "metadata": {},
   "source": [
    "# first version of the answer"
   ]
  },
  {
   "cell_type": "code",
   "execution_count": null,
   "id": "abb474d6",
   "metadata": {},
   "outputs": [],
   "source": [
    "verse = \"If you can keep your head when all about you\\n  Are losing theirs and blaming it on you,\\nIf you can trust yourself when all men doubt you,\\n  But make allowance for their doubting too;\\nIf you can wait and not be tired by waiting,\\n  Or being lied about, don’t deal in lies,\\nOr being hated, don’t give way to hating,\\n  And yet don’t look too good, nor talk too wise:\"\n",
    "verse_length = len(verse)\n",
    "substring = 'and'\n",
    "index = verse.find(substring)\n",
    "substring_two = 'you'\n",
    "index_two = verse.rfind(substring_two)\n",
    "count = verse.count(substring_two)\n",
    "print(verse, '\\n')\n",
    "print(verse_length)\n",
    "print(index)\n",
    "print(index_two)\n",
    "print(count)\n",
    "\n",
    "# Use the appropriate functions and methods to answer the questions above\n",
    "# Bonus: practice using .format() to output your answers in descriptive messages!"
   ]
  },
  {
   "cell_type": "markdown",
   "id": "84e14a4d",
   "metadata": {},
   "source": [
    "# version two"
   ]
  },
  {
   "cell_type": "code",
   "execution_count": null,
   "id": "7a67057f",
   "metadata": {},
   "outputs": [],
   "source": [
    "verse = \"If you can keep your head when all about you\\n  Are losing theirs and blaming it on you,\\nIf you can trust yourself when all men doubt you,\\n  But make allowance for their doubting too;\\nIf you can wait and not be tired by waiting,\\n  Or being lied about, don’t deal in lies,\\nOr being hated, don’t give way to hating,\\n  And yet don’t look too good, nor talk too wise:\"\n",
    "print(verse, \"\\n\")\n",
    "\n",
    "print(\"Verse has a length of {} characters.\".format(len(verse)))\n",
    "print(\"The first occurence of the word 'and' occurs at the {}th index.\".format(verse.find('and')))\n",
    "print(\"The last occurence of the word 'you' occurs at the {}th index.\".format(verse.rfind('you')))\n",
    "print(\"The word 'you' occurs {} times in the verse.\".format(verse.count('you')))"
   ]
  },
  {
   "cell_type": "markdown",
   "id": "0786b432",
   "metadata": {},
   "source": [
    "# version 3"
   ]
  },
  {
   "cell_type": "code",
   "execution_count": null,
   "id": "24474555",
   "metadata": {},
   "outputs": [],
   "source": [
    "verse = \"If you can keep your head when all about you\\n  Are losing theirs and blaming it on you,\\nIf you can trust yourself when all men doubt you,\\n  But make allowance for their doubting too;\\nIf you can wait and not be tired by waiting,\\n  Or being lied about, don’t deal in lies,\\nOr being hated, don’t give way to hating,\\n  And yet don’t look too good, nor talk too wise:\"\n",
    "print(verse, \"\\n\")\n",
    "\n",
    "message = \"Verse has a length of {} characters.\\nThe first occurence of the \\\n",
    "word 'and' occurs at the {}th index.\\nThe last occurence of the word 'you' \\\n",
    "occurs at the {}th index.\\nThe word 'you' occurs {} times in the verse.\"\n",
    "\n",
    "length = len(verse)\n",
    "first_idx = verse.find('and')\n",
    "last_idx = verse.rfind('you')\n",
    "count = verse.count('you')\n",
    "\n",
    "print(message.format(length, first_idx, last_idx, count))"
   ]
  },
  {
   "cell_type": "markdown",
   "id": "8c7d6967",
   "metadata": {},
   "source": [
    "# Control Flow\n"
   ]
  },
  {
   "cell_type": "markdown",
   "id": "7fcf9477",
   "metadata": {},
   "source": [
    "## if elif else"
   ]
  },
  {
   "cell_type": "markdown",
   "id": "c1780078",
   "metadata": {},
   "source": [
    "## for loops"
   ]
  },
  {
   "cell_type": "markdown",
   "id": "10fc591c",
   "metadata": {},
   "source": [
    "- Python has two kinds of loops - for loops and while loops. A for loop is used to \"iterate\", or do something repeatedly, over an iterable.\n",
    "\n",
    "- An iterable is an object that can return one of its elements at a time. This can include sequence types, such as strings, lists, and tuples, as well as non-sequence types, such as dictionaries and files."
   ]
  },
  {
   "cell_type": "code",
   "execution_count": null,
   "id": "c143b878",
   "metadata": {},
   "outputs": [],
   "source": [
    "#example of a for loop\n",
    "cities = ['new york city', 'mountain view', 'chicago', 'los angeles']\n",
    "for city in cities: #City is the iteration variable and cities is the the iterable being looped over\n",
    "    print(city)\n",
    "print(\"Done!\")"
   ]
  },
  {
   "cell_type": "markdown",
   "id": "f840bd0b",
   "metadata": {},
   "source": [
    "### naming iteration variables\n",
    "- You can name iteration variables however you like. A common pattern is to give the iteration variable and iterable the same names, except the singular and plural versions respectively (e.g., 'city' and 'cities')."
   ]
  },
  {
   "cell_type": "markdown",
   "id": "531ec901",
   "metadata": {},
   "source": [
    "### using  `range()` Function with `for` Loops\n",
    "\n",
    "`range()` is a built in function used to create an iterable sequence of numbers. \n",
    "- youwill frequently use `range()` with a for loop to repeat an action a certain number of times.\n",
    "- Any varibale can be used to iterate through the numbers but python programmers conventionally use`i` . check example below\n",
    "\n",
    "    ```\n",
    "    for i in range(3):\n",
    "        print(\"Hello!\")\n",
    "     ```\n",
    "     [pynative.com](https://pynative.com/python-range-function/#h-range-stop)-link to range functions\n",
    " "
   ]
  },
  {
   "cell_type": "markdown",
   "id": "82a421eb",
   "metadata": {},
   "source": [
    "### Range()"
   ]
  },
  {
   "cell_type": "markdown",
   "id": "6be8a6f0",
   "metadata": {},
   "source": [
    "#### `range(stop)` `range(start,stop)`\n",
    "`range(stop)`- When you pass only one argument to `range()`, it will generate a sequence of integers starting from 0 to `stop -1`"
   ]
  },
  {
   "cell_type": "code",
   "execution_count": null,
   "id": "7dd97f55",
   "metadata": {},
   "outputs": [],
   "source": [
    "#\n",
    "for i in range(3):\n",
    "    print(\"Hello!\")"
   ]
  },
  {
   "cell_type": "code",
   "execution_count": null,
   "id": "bd2bce4b",
   "metadata": {},
   "outputs": [],
   "source": [
    "#print first 10 numbers\n",
    "#stop=10\n",
    "for i in range(10):\n",
    "    print(i, end=' ') #end=' ' arranges the output in a line format\n",
    "    "
   ]
  },
  {
   "cell_type": "markdown",
   "id": "495886ba",
   "metadata": {},
   "source": [
    "- here the `start=0` and `step=1` by default\n",
    "- if you want to start the range at 1, use `range(1,10)`-it will generate integers from `start` number to `stop=-1`\n",
    "- If you set the stop as a 0 or some negative value, then the range will return an empty sequence."
   ]
  },
  {
   "cell_type": "markdown",
   "id": "d148b95c",
   "metadata": {},
   "source": [
    "`range(start,stop,step)`\n",
    "- When you pass all three arguments to the range(), it will return a sequence of numbers, starting from the start number, increments by step number, and stops before a stop number.\n",
    "- note: range() only works with integers"
   ]
  },
  {
   "cell_type": "code",
   "execution_count": null,
   "id": "9c280d42",
   "metadata": {},
   "outputs": [],
   "source": [
    "# Creating a new list\n",
    "cities = ['new york city', 'mountain view', 'chicago', 'los angeles']\n",
    "capitalized_cities = []\n",
    "\n",
    "for city in cities:\n",
    "    capitalized_cities.append(city.title())\n",
    "    print(cities)"
   ]
  },
  {
   "cell_type": "markdown",
   "id": "ed9a4a88",
   "metadata": {},
   "source": [
    "#### modifying a list\n",
    "- Modifying a list is a bit more involved, and requires the use of the range() function.\n",
    "\n",
    "We can use the range() function to generate the indices for each value in the cities list. This lets us access the elements of the list with cities[index] so that we can modify the values in the cities list in place."
   ]
  },
  {
   "cell_type": "code",
   "execution_count": null,
   "id": "a162e631",
   "metadata": {},
   "outputs": [],
   "source": [
    "#modifying a list using range(). Range is used to generate the indices\n",
    "cities = ['new york city', 'mountain view', 'chicago', 'los angeles']\n",
    "\n",
    "for index in range(len(cities)):\n",
    "    cities[index] = cities[index].title()\n",
    "    print(cities)"
   ]
  },
  {
   "cell_type": "markdown",
   "id": "62e697f2",
   "metadata": {},
   "source": [
    "## Quiz: Create Usernames\n",
    "- Write a `for` loop that iterates over the `names` list to create a `usernames` list. To create a username for each name, make everything lowercase and replace spaces with underscores. Running your for loop over the list:\n",
    "\n",
    "names = [\"Joey Tribbiani\", \"Monica Geller\", \"Chandler Bing\", \"Phoebe Buffay\"]\n",
    "\n",
    "should print out the usernames list:\n",
    "\n",
    "[\"joey_tribbiani\", \"monica_geller\", \"chandler_bing\", \"phoebe_buffay\"]\n",
    "\n",
    "HINT: Use the .replace() method to replace the spaces with underscores. Check out how to use this method in this [Stack Overflow answer](https://stackoverflow.com/a/12723785)."
   ]
  },
  {
   "cell_type": "code",
   "execution_count": null,
   "id": "81a46af4",
   "metadata": {},
   "outputs": [],
   "source": [
    "#create usernames in lowercase and replaces spaces with underscores as the separator\n",
    "names = [\"Joey Tribbiani\", \"Monica Geller\", \"Chandler Bing\", \"Phoebe Buffay\"]\n",
    "usernames = []\n",
    "\n",
    "# write your for loop here\n",
    "for name in names:\n",
    "    usernames.append(name.lower().replace(\" \", \"_\"))\n",
    "    \n",
    "    \n",
    "    \n",
    "print(usernames)   "
   ]
  },
  {
   "cell_type": "code",
   "execution_count": null,
   "id": "eaa2bbfe",
   "metadata": {},
   "outputs": [],
   "source": [
    "names = [\"Joey Tribbiani\", \"Monica Geller\", \"Chandler Bing\", \"Phoebe Buffay\"]\n",
    "\n",
    "for name in names:\n",
    "    name = name.lower().replace(\" \", \"_\")\n",
    "\n",
    "print(names)"
   ]
  },
  {
   "cell_type": "code",
   "execution_count": null,
   "id": "256e550a",
   "metadata": {},
   "outputs": [],
   "source": [
    "#count the number of xml tags in tokens\n",
    "tokens = ['<greeting>', 'Hello World!', '</greeting>']\n",
    "\n",
    "count = 0\n",
    "for token in tokens:\n",
    "    if token[0] == '<' and token[-1] == '>':\n",
    "        count += 1\n",
    "\n",
    "print(count)"
   ]
  },
  {
   "cell_type": "markdown",
   "id": "dd76a7b0",
   "metadata": {},
   "source": [
    "## Does the above code print out the same names?\n",
    "Yes, the printed output for the names list will look exactly like it did in the first line. During each iteration, the name variable is set to a string taken from the list. Then the assignment statement creates a new string (name.lower().replace(\" \", \"_\")) and changes the name variable to that string. It doesn't modify the contents of the names list at all. To modify the list you must operate on the list itself, using range, as you saw earlier."
   ]
  },
  {
   "cell_type": "code",
   "execution_count": null,
   "id": "924bb563",
   "metadata": {},
   "outputs": [],
   "source": [
    "#write a for loop that uses range() to iterate over the positions in usernames\n",
    "#change each name to lowercase and replace spaces with underscores\n",
    "usernames = [\"Joey Tribbiani\", \"Monica Geller\", \"Chandler Bing\", \"Phoebe Buffay\"]\n",
    "\n",
    "# write your for loop here\n",
    "for index in range(len(usernames)):\n",
    "    usernames[index]=usernames[index].lower().replace(\" \",\"_\")\n",
    "\n",
    "print(usernames)"
   ]
  },
  {
   "cell_type": "code",
   "execution_count": null,
   "id": "f66fabc0",
   "metadata": {},
   "outputs": [],
   "source": [
    "#create an HTML list using for loop\n",
    "items = ['first string', 'second string']\n",
    "html_str = \"<ul>\\n\"          # The \"\\n\" here is the end-of-line char, causing\n",
    "                             # chars after this in html_str to be on next line\n",
    "\n",
    "for item in items:\n",
    "    html_str += \"<li>{}</li>\\n\".format(item)\n",
    "html_str += \"</ul>\"\n",
    "\n",
    "print(html_str)"
   ]
  },
  {
   "cell_type": "code",
   "execution_count": null,
   "id": "15fe5f81",
   "metadata": {},
   "outputs": [],
   "source": [
    "len([0,1,2]*50)"
   ]
  },
  {
   "cell_type": "markdown",
   "id": "f831bb18",
   "metadata": {},
   "source": [
    "## While loops\n",
    "- `for` loops: example of definite iterations(loop runs a predefined number of times)\n",
    "- `while` loop: example of indefinite iterations(loops runs unkown number of times and ends when a cndition is met)"
   ]
  },
  {
   "cell_type": "markdown",
   "id": "16e80e33",
   "metadata": {},
   "source": [
    "### example 1"
   ]
  },
  {
   "cell_type": "code",
   "execution_count": null,
   "id": "e3fcdee4",
   "metadata": {},
   "outputs": [],
   "source": [
    "card_deck = [4, 11, 8, 5, 13, 2, 8, 10]\n",
    "hand = []\n",
    "\n",
    "# adds the last element of the card_deck list to the hand list\n",
    "# until the values in hand add up to 17 or more\n",
    "while sum(hand) <=17:\n",
    "    hand.append(card_deck.pop())"
   ]
  },
  {
   "cell_type": "markdown",
   "id": "748a8421",
   "metadata": {},
   "source": [
    " This example features two new functions. `sum` returns the sum of the elements in a list, and `pop` is a list method that removes the last element from a list and returns it."
   ]
  },
  {
   "cell_type": "markdown",
   "id": "a2f103fb",
   "metadata": {},
   "source": [
    "### Components of a While Loop\n",
    "- The first line starts with the while keyword, indicating this is a while loop.\n",
    "- Following that is a condition to be checked. In this example, that's sum(hand) <= 17.\n",
    "- The while loop heading always ends with a colon :.\n",
    "- Indented after this heading is the body of the while loop. If the condition for the while loop is true, the code lines in the loop's body will be executed.\n",
    "- We then go back to the while heading line, and the condition is evaluated again. This process of checking the condition and then executing the loop repeats until the condition becomes false.\n",
    "- When the condition becomes false, we move on to the line following the body of the loop, which will be unindented."
   ]
  },
  {
   "cell_type": "markdown",
   "id": "a834c7d2",
   "metadata": {},
   "source": [
    "### example 2 : Factorials with While Loops\n"
   ]
  },
  {
   "cell_type": "code",
   "execution_count": null,
   "id": "1b7c948a",
   "metadata": {},
   "outputs": [],
   "source": [
    "# number to find the factorial of\n",
    "number = 6   \n",
    "\n",
    "# start with our product equal to one\n",
    "product = 1\n",
    "\n",
    "# track the current number being multiplied\n",
    "current = 1\n",
    "\n",
    "# write your while loop here\n",
    "while number >= current:  #or while current<=number\n",
    "    product = product*current # multiply the product so far by the current number\n",
    "    current +=1  # increment current with each iteration until it reaches number\n",
    "print(product)\n",
    "    \n"
   ]
  },
  {
   "cell_type": "markdown",
   "id": "755ef593",
   "metadata": {},
   "source": [
    "### example 2 : Factorials with for Loops"
   ]
  },
  {
   "cell_type": "code",
   "execution_count": null,
   "id": "2f31dc80",
   "metadata": {},
   "outputs": [],
   "source": [
    "#number to find the factorial of\n",
    "number = 6\n",
    "\n",
    "#start with our product equal to one\n",
    "product = 1\n",
    "\n",
    "for i in range(number):\n",
    "    product = product*(i +1)\n",
    "\n",
    "print(product)\n",
    "    \n",
    "    \n"
   ]
  },
  {
   "cell_type": "code",
   "execution_count": null,
   "id": "7017a9ab",
   "metadata": {},
   "outputs": [],
   "source": [
    "#another way of using for loop for factorial 6\n",
    "\n",
    "# number we'll find the factorial of\n",
    "number = 6\n",
    "# start with our product equal to one\n",
    "product = 1\n",
    "\n",
    "# calculate factorial of number with a for loop\n",
    "for num in range(2, number + 1):\n",
    "    product *= num\n",
    "\n",
    "# print the factorial of number\n",
    "print(product)"
   ]
  },
  {
   "cell_type": "markdown",
   "id": "55403966",
   "metadata": {},
   "source": [
    "## Break, Continue"
   ]
  },
  {
   "cell_type": "code",
   "execution_count": null,
   "id": "afcf755a",
   "metadata": {},
   "outputs": [],
   "source": []
  },
  {
   "cell_type": "markdown",
   "id": "19a87c26",
   "metadata": {},
   "source": [
    " # Pandas"
   ]
  },
  {
   "cell_type": "markdown",
   "id": "9f4c73a5",
   "metadata": {},
   "source": [
    "- powerful pythondata analysis toolkit"
   ]
  },
  {
   "cell_type": "markdown",
   "id": "6acd9a87",
   "metadata": {},
   "source": [
    "####  pandass Series\n",
    "- pandas series is a one-dimensional array-like object that can hold many data types, such as numbers or strings, and has an option to provide axis labels.\n",
    "\n",
    "##### Differences between NumPy ndarrays and Pandas Series\n",
    "    - One of the main differences between pandas Series and NumPy ndarrays is that you can assign an index label to each element in the pandas Series. In other words, you can name the indices of your pandas Series anything you want.\n",
    "    - Another big difference between pandas Series and NumPy ndarrays is that pandas Series can hold data of different data types."
   ]
  },
  {
   "cell_type": "code",
   "execution_count": null,
   "id": "46b12f41",
   "metadata": {},
   "outputs": [],
   "source": [
    "# let's use a pandas Series to store a grocery list\n",
    "\n",
    "#import pandas library\n",
    "import pandas as pd\n",
    "\n",
    "#create a pandas Series that storesa grocery list\n",
    "groceries = pd.Series(data=[30,6,'yes', 'No'], index = ['eggs', 'apples', 'milk', 'bread'])\n",
    "\n",
    "#display the grocerries pandas Series\n",
    "groceries\n",
    "\n"
   ]
  },
  {
   "cell_type": "markdown",
   "id": "8f497433",
   "metadata": {},
   "source": [
    " We see indices are displayed in the first column, data is displayed in the second column. data is not indexed 0-3 but rather indexed with names of food put in. data in the series has both integers and strings\n",
    " "
   ]
  },
  {
   "cell_type": "markdown",
   "id": "0beddfe1",
   "metadata": {},
   "source": [
    "###### Pandas series attributes\n",
    "- pandas Series have attributes that allow us to get information from the series in an easy way [pandas series](https://pandas.pydata.org/docs/reference/api/pandas.Series.html)\n",
    "\n",
    "- some of the `attributes`\n",
    "    \n",
    "    ndim- Number of dimensions of the underlying data, by definition 1.\n",
    "\n",
    "    shape- Return a tuple of the shape of the underlying data.\n",
    "\n",
    "    size- Return the number of elements in the underlying data.\n",
    "    index- The index (axis labels) of the Series.\n",
    "    values- Return Series as ndarray or ndarray-like depending on the dtype."
   ]
  },
  {
   "cell_type": "code",
   "execution_count": null,
   "id": "4e1cbca2",
   "metadata": {},
   "outputs": [],
   "source": [
    "#example of pandas series attributes- print information of groceries\n",
    "print('groceries has shape:', groceries.shape)\n",
    "print('groceries has dimension:', groceries.ndim)\n",
    "print('groceries has a total of', groceries.size, 'elements')\n",
    "\n",
    "#print index and data of groceries\n",
    "print('The data in groceries is :', groceries.values)\n",
    "print('The data in groceries is :', groceries.index)"
   ]
  },
  {
   "cell_type": "markdown",
   "id": "ea516f48",
   "metadata": {},
   "source": [
    "##### Check if an index is available in the given Series"
   ]
  },
  {
   "cell_type": "code",
   "execution_count": null,
   "id": "99463db9",
   "metadata": {},
   "outputs": [],
   "source": [
    "#check by using the `in` command\n",
    "# We check whether bananas is a food item (an index) in Groceries\n",
    "x = 'bananas' in groceries\n",
    "\n",
    "# We check whether bread is a food item (an index) in Groceries\n",
    "y = 'bread' in groceries\n",
    "\n",
    "# We print the results\n",
    "print('Is bananas an index label in Groceries:', x)\n",
    "print('Is bread an index label in Groceries:', y)\n",
    "\n",
    "#observe: returns a bool value"
   ]
  },
  {
   "cell_type": "markdown",
   "id": "405770a5",
   "metadata": {},
   "source": [
    "### Accessing and Deleting Elements in Pandas Series\n"
   ]
  },
  {
   "cell_type": "markdown",
   "id": "329516d2",
   "metadata": {},
   "source": [
    "- elements can be accessed using index labels or numerical indices inside \n",
    "square brackets [], and therefore we can use both positive ad negative integers \n",
    "to access data from beginning or end or seris.\n",
    "- due to many ways of accessing data, to remove ambiguity, pandas Series has two attributes, \n",
    "    - `.loc` which stands for location can be used to access index labels\n",
    "    - `.iloc` which stands for integer location can be used to access numerical indices\n",
    "    "
   ]
  },
  {
   "cell_type": "markdown",
   "id": "0019babf",
   "metadata": {},
   "source": [
    "##### access elements using index labels\n"
   ]
  },
  {
   "cell_type": "code",
   "execution_count": null,
   "id": "849af968",
   "metadata": {},
   "outputs": [],
   "source": [
    "# We access elements in Groceries using index labels:\n",
    "\n",
    "# We use a single index label\n",
    "print('How many eggs do we need to buy:', groceries['eggs'])\n",
    "print()\n",
    "\n",
    "# we can access multiple index labels\n",
    "print('Do we need milk and bread:\\n', groceries[['milk', 'bread']]) \n",
    "print()\n",
    "\n",
    "# we use loc to access multiple index labels\n",
    "print('How many eggs and apples do we need to buy:\\n', groceries.loc[['eggs', 'apples']]) \n",
    "print()\n",
    "\n",
    "# We access elements in Groceries using numerical indices:\n",
    "\n",
    "# we use multiple numerical indices\n",
    "print('How many eggs and apples do we need to buy:\\n',  groceries[[0, 1]]) \n",
    "print()\n",
    "\n",
    "# We use a negative numerical index\n",
    "print('Do we need bread:\\n', groceries[[-1]]) \n",
    "print()\n",
    "\n",
    "# We use a single numerical index\n",
    "print('How many eggs do we need to buy:', groceries[0]) \n",
    "print()\n",
    "# we use iloc to access multiple numerical indices\n",
    "print('Do we need milk and bread:\\n', groceries.iloc[[2, 3]]) "
   ]
  },
  {
   "cell_type": "markdown",
   "id": "102f0424",
   "metadata": {},
   "source": [
    "Pandas Series are mutable like Numpy ndarrays"
   ]
  },
  {
   "cell_type": "markdown",
   "id": "54f63647",
   "metadata": {},
   "source": [
    "##### mutate elements using index labels\n",
    "\n"
   ]
  },
  {
   "cell_type": "code",
   "execution_count": null,
   "id": "e3d6900c",
   "metadata": {},
   "outputs": [],
   "source": [
    "# We display the original grocery list\n",
    "print('Original Grocery List:\\n', groceries)\n",
    "\n",
    "# We change the number of eggs to 2\n",
    "groceries['eggs'] = 8\n",
    "\n",
    "# We display the changed grocery list\n",
    "print() #creates a new line\n",
    "print('Modified Grocery List:\\n', groceries)"
   ]
  },
  {
   "cell_type": "markdown",
   "id": "e8b9d56b",
   "metadata": {},
   "source": [
    "##### delete elements out of place and in-place"
   ]
  },
  {
   "cell_type": "code",
   "execution_count": null,
   "id": "1cc29c3e",
   "metadata": {},
   "outputs": [],
   "source": [
    "# We display the original grocery list\n",
    "print('Original Grocery List:\\n', groceries)\n",
    "\n",
    "# We remove apples from our grocery list. The drop function removes elements out of place\n",
    "print()\n",
    "print('We remove apples (out of place):\\n', groceries.drop('apples'))\n",
    "\n",
    "# When we remove elements out of place the original Series remains intact. To see this\n",
    "# we display our grocery list again\n",
    "print()\n",
    "print('Grocery List after removing apples out of place:\\n', groceries)\n",
    "\n",
    "print()\n",
    "# We display the original grocery list\n",
    "print('Original Grocery List:\\n', groceries)\n",
    "\n",
    "# We remove apples from our grocery list in place by setting the inplace keyword to True\n",
    "groceries.drop('apples', inplace = True)\n",
    "\n",
    "# When we remove elements in place the original Series its modified. To see this\n",
    "# we display our grocery list again\n",
    "print()\n",
    "print('Grocery List after removing apples in place:\\n', groceries)"
   ]
  },
  {
   "cell_type": "markdown",
   "id": "0acaa0cb",
   "metadata": {},
   "source": [
    " - The above code is supposed to print out deleted items both out of place and in place. The code worked but by running it again it brought an error which is understable since it already delete the apples by using in place. only returns available items in the list"
   ]
  },
  {
   "cell_type": "markdown",
   "id": "36abbcb0",
   "metadata": {},
   "source": [
    "#### Arithmetic Operation on Pandas Series"
   ]
  },
  {
   "cell_type": "code",
   "execution_count": null,
   "id": "829f8c73",
   "metadata": {},
   "outputs": [],
   "source": [
    "fruits = pd.Series([30, 6, 3], ['apples', 'oranges', 'bananas'])\n",
    "fruits"
   ]
  },
  {
   "cell_type": "code",
   "execution_count": null,
   "id": "2d7178da",
   "metadata": {},
   "outputs": [],
   "source": [
    "# we can use basic math operators on fruits\n",
    "fruits + 2 "
   ]
  },
  {
   "cell_type": "code",
   "execution_count": null,
   "id": "0b776bb4",
   "metadata": {},
   "outputs": [],
   "source": [
    "fruits - 2"
   ]
  },
  {
   "cell_type": "code",
   "execution_count": null,
   "id": "63348042",
   "metadata": {},
   "outputs": [],
   "source": [
    "fruits / 2"
   ]
  },
  {
   "cell_type": "code",
   "execution_count": null,
   "id": "cd687a72",
   "metadata": {},
   "outputs": [],
   "source": [
    "fruits * 2"
   ]
  },
  {
   "cell_type": "code",
   "execution_count": null,
   "id": "9b5f8110",
   "metadata": {},
   "outputs": [],
   "source": [
    "#apply mathematical functions from numpy\n",
    "import numpy as np\n",
    "fruits"
   ]
  },
  {
   "cell_type": "code",
   "execution_count": null,
   "id": "3e05db0d",
   "metadata": {},
   "outputs": [],
   "source": [
    "np.sqrt(fruits)"
   ]
  },
  {
   "cell_type": "code",
   "execution_count": null,
   "id": "94a439c2",
   "metadata": {},
   "outputs": [],
   "source": [
    "np.exp(fruits)"
   ]
  },
  {
   "cell_type": "code",
   "execution_count": null,
   "id": "28986ecb",
   "metadata": {},
   "outputs": [],
   "source": [
    "np.power(fruits, 2) # we raise elements to the power of 2"
   ]
  },
  {
   "cell_type": "code",
   "execution_count": null,
   "id": "caf240e2",
   "metadata": {},
   "outputs": [],
   "source": [
    "#apply arithmetic operation to selected elements\n",
    "fruits['bananas'] + 2"
   ]
  },
  {
   "cell_type": "code",
   "execution_count": null,
   "id": "ead3e1f3",
   "metadata": {},
   "outputs": [],
   "source": [
    "#subract 2 from apples using its numeric index\n",
    "fruits.iloc[0] - 2"
   ]
  },
  {
   "cell_type": "code",
   "execution_count": null,
   "id": "93360cfd",
   "metadata": {},
   "outputs": [],
   "source": [
    "#double both apples and oranges\n",
    "fruits[['apples', 'oranges']] * 2"
   ]
  },
  {
   "cell_type": "code",
   "execution_count": null,
   "id": "030c017b",
   "metadata": {},
   "outputs": [],
   "source": [
    "#divide oranges and apples \n",
    "fruits.loc[['apples', 'oranges']] / 2"
   ]
  },
  {
   "cell_type": "code",
   "execution_count": null,
   "id": "2af33ca2",
   "metadata": {},
   "outputs": [],
   "source": [
    "#multiply grocery list by 2: contains both strings and integers\n",
    "groceries*2"
   ]
  },
  {
   "cell_type": "markdown",
   "id": "e4188849",
   "metadata": {},
   "source": [
    "### manipulate series quiz"
   ]
  },
  {
   "cell_type": "code",
   "execution_count": null,
   "id": "2f96201a",
   "metadata": {},
   "outputs": [],
   "source": [
    "import pandas as pd\n",
    "\n",
    "# DO NOT CHANGE THE VARIABLE NAMES\n",
    "\n",
    "# Given a list representing a few planets\n",
    "planets = ['Earth', 'Saturn', 'Venus', 'Mars', 'Jupiter']\n",
    "\n",
    "# Given another list representing the distance of each of these planets from the Sun\n",
    "# The distance from the Sun is in units of 10^6 km\n",
    "distance_from_sun = [149.6, 1433.5, 108.2, 227.9, 778.6]\n",
    "\n",
    "\n",
    "# TO DO: Create a Pandas Series \"dist_planets\" using the lists above, representing the distance of the planet from the Sun.\n",
    "# Use the `distance_from_sun` as your data, and `planets` as your index.\n",
    "dist_planets =pd.Series(data = distance_from_sun, index = planets)\n",
    "print (dist_planets)"
   ]
  },
  {
   "cell_type": "code",
   "execution_count": null,
   "id": "03e4732a",
   "metadata": {},
   "outputs": [],
   "source": [
    "# TO DO: Calculate the time (minutes) it takes light from the Sun to reach each planet. \n",
    "# You can do this by dividing each planet's distance from the Sun by the speed of light.\n",
    "# Use the speed of light, c = 18, since light travels 18 x 10^6 km/minute.\n",
    "time_light = dist_planets / 18\n",
    "time_light"
   ]
  },
  {
   "cell_type": "code",
   "execution_count": null,
   "id": "c2961768",
   "metadata": {},
   "outputs": [],
   "source": [
    "# TO DO: Use Boolean indexing to select only those planets for which sunlight takes less\n",
    "# than 40 minutes to reach them.\n",
    "# We'll check your work by printing out these close planets.\n",
    "close_planets = time_light[time_light < 40] \n",
    "close_planets"
   ]
  },
  {
   "cell_type": "markdown",
   "id": "d5a566b1",
   "metadata": {},
   "source": [
    "## Creating pandas DataFrames"
   ]
  },
  {
   "cell_type": "markdown",
   "id": "81a7de2e",
   "metadata": {},
   "source": [
    "- Pandas DataFrames are two-dimensional data structures with labeled rows and columns, that can hold many data types.\n",
    "- similar to a spreadsheet(excel). \n",
    "- can be created manually or by loading data from a file"
   ]
  },
  {
   "cell_type": "markdown",
   "id": "794cb32a",
   "metadata": {},
   "source": [
    "#### Creating Pandas Dataframe manually\n",
    "`Steps`\n",
    "1. The first stepis to create the dictionary of pandas Series\n",
    "2. After the dictionary is created we can then pass the dictionary to the pd.DataFrame() function"
   ]
  },
  {
   "cell_type": "markdown",
   "id": "0b03911a",
   "metadata": {},
   "source": [
    "##### Create a pandas dataframe of items purchases by two peope"
   ]
  },
  {
   "cell_type": "code",
   "execution_count": null,
   "id": "d9f670bb",
   "metadata": {},
   "outputs": [],
   "source": []
  }
 ],
 "metadata": {
  "kernelspec": {
   "display_name": "Python 3",
   "language": "python",
   "name": "python3"
  },
  "language_info": {
   "codemirror_mode": {
    "name": "ipython",
    "version": 3
   },
   "file_extension": ".py",
   "mimetype": "text/x-python",
   "name": "python",
   "nbconvert_exporter": "python",
   "pygments_lexer": "ipython3",
   "version": "3.10.4"
  }
 },
 "nbformat": 4,
 "nbformat_minor": 5
}
